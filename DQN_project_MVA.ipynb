{
 "cells": [
  {
   "cell_type": "markdown",
   "metadata": {},
   "source": [
    "**You may need to install [OpenCV](https://pypi.python.org/pypi/opencv-python) and [scikit-video](http://www.scikit-video.org/stable/).**"
   ]
  },
  {
   "cell_type": "code",
   "execution_count": 1,
   "metadata": {
    "collapsed": true
   },
   "outputs": [
    {
     "name": "stderr",
     "output_type": "stream",
     "text": [
      "C:\\Users\\salma\\Anaconda3\\lib\\site-packages\\h5py\\__init__.py:34: FutureWarning: Conversion of the second argument of issubdtype from `float` to `np.floating` is deprecated. In future, it will be treated as `np.float64 == np.dtype(float).type`.\n",
      "  from ._conv import register_converters as _register_converters\n",
      "Using TensorFlow backend.\n"
     ]
    }
   ],
   "source": [
    "import keras\n",
    "import numpy as np\n",
    "import io\n",
    "import base64\n",
    "from IPython.display import HTML\n",
    "import skvideo.io\n",
    "import cv2\n",
    "import json\n",
    "import random\n",
    "\n",
    "from keras.models import Sequential,model_from_json\n",
    "from keras.layers.core import Dense\n",
    "from keras.optimizers import sgd, Adam\n",
    "from keras.layers import Conv2D, MaxPooling2D, Activation, AveragePooling2D,Reshape,BatchNormalization"
   ]
  },
  {
   "cell_type": "markdown",
   "metadata": {},
   "source": [
    "# MiniProject #3: Deep Reinforcement Learning"
   ]
  },
  {
   "cell_type": "markdown",
   "metadata": {},
   "source": [
    "__Notations__: $E_p$ is the expectation under probability $p$. Please justify each of your answer and widely comment your code."
   ]
  },
  {
   "cell_type": "markdown",
   "metadata": {},
   "source": [
    "# Context"
   ]
  },
  {
   "cell_type": "markdown",
   "metadata": {},
   "source": [
    "In a reinforcement learning algorithm, we modelize each step $t$ as an action $a_t$ obtained from a state $s_t$, i.e. $\\{(a_{t},s_{t})_{t\\leq T}\\}$ having the Markov property. We consider a discount factor $\\gamma \\in [0,1]$ that ensures convergence. The goal is to find among all the policies $\\pi$, one that maximizes the expected reward:\n",
    "\n",
    "\\begin{equation*}\n",
    "R(\\pi)=\\sum_{t\\leq T}E_{p^{\\pi}}[\\gamma^t r(s_{t},a_{t})] \\> ,\n",
    "\\end{equation*}\n",
    "\n",
    "where: \n",
    "\\begin{equation*}p^{\\pi}(a_{0},a_{1},s_{1},...,a_{T},s_{T})=p(a_{0})\\prod_{t=1}^{T}\\pi(a_{t}|s_{t})p(s_{t+1}|s_{t},a_{t}) \\> .\n",
    "\\end{equation*}\n",
    "\n",
    "We note the $Q$-function:\n",
    "\n",
    "\\begin{equation*}Q^\\pi(s,a)=E_{p^{\\pi}}[\\sum_{t\\leq T}\\gamma^{t}r(s_{t},a_{t})|s_{0}=s,a_{0}=a] \\> .\n",
    "\\end{equation*}\n",
    "\n",
    "Thus, the optimal Q function is:\n",
    "\\begin{equation*}\n",
    "Q^*(s,a)=\\max_{\\pi}Q^\\pi(s,a) \\> .\n",
    "\\end{equation*}\n",
    "\n",
    "In this project, we will apply the deep reinforcement learning techniques to a simple game: an agent will have to learn from scratch a policy that will permit it maximizing a reward."
   ]
  },
  {
   "cell_type": "markdown",
   "metadata": {},
   "source": [
    "## The environment, the agent and the game"
   ]
  },
  {
   "cell_type": "markdown",
   "metadata": {},
   "source": [
    "### The environment"
   ]
  },
  {
   "cell_type": "markdown",
   "metadata": {},
   "source": [
    "```Environment``` is an abstract class that represents the states, rewards, and actions to obtain the new state."
   ]
  },
  {
   "cell_type": "code",
   "execution_count": 2,
   "metadata": {
    "collapsed": true
   },
   "outputs": [],
   "source": [
    "class Environment(object):\n",
    "    def __init__(self):\n",
    "        pass\n",
    "\n",
    "    def act(self, act):\n",
    "        \"\"\"\n",
    "        One can act on the environment and obtain its reaction:\n",
    "        - the new state\n",
    "        - the reward of the new state\n",
    "        - should we continue the game?\n",
    "\n",
    "        :return: state, reward, game_over\n",
    "        \"\"\"\n",
    "        pass\n",
    "\n",
    "\n",
    "    def reset(self):\n",
    "        \"\"\"\n",
    "        Reinitialize the environment to a random state and returns\n",
    "        the original state\n",
    "\n",
    "        :return: state\n",
    "        \"\"\"\n",
    "        pass\n",
    "    \n",
    "    def draw(self):\n",
    "        \"\"\"\n",
    "        Visualize in the console or graphically the current state\n",
    "        \"\"\"\n",
    "        pass"
   ]
  },
  {
   "cell_type": "markdown",
   "metadata": {},
   "source": [
    "The method ```act``` allows to act on the environment at a given state $s_t$ (stored internally), via action $a_t$. The method will return the new state $s_{t+1}$, the reward $r(s_{t},a_{t})$ and determines if $t\\leq T$ (*game_over*).\n",
    "\n",
    "The method ```reset``` simply reinitializes the environment to a random state $s_0$.\n",
    "\n",
    "The method ```draw``` displays the current state $s_t$ (this is useful to check the behavior of the Agent).\n",
    "\n",
    "We modelize $s_t$ as a tensor, while $a_t$ is an integer."
   ]
  },
  {
   "cell_type": "markdown",
   "metadata": {},
   "source": [
    "### The Agent"
   ]
  },
  {
   "cell_type": "markdown",
   "metadata": {},
   "source": [
    "The goal of the ```Agent``` is to interact with the ```Environment``` by proposing actions $a_t$ obtained from a given state $s_t$ to attempt to maximize its __reward__ $r(s_t,a_t)$. We propose the following abstract class:"
   ]
  },
  {
   "cell_type": "code",
   "execution_count": 3,
   "metadata": {
    "collapsed": true
   },
   "outputs": [],
   "source": [
    "class Agent(object):\n",
    "    def __init__(self, epsilon=0.1, n_action=4):\n",
    "        self.epsilon = epsilon\n",
    "        self.n_action = n_action\n",
    "    \n",
    "    def set_epsilon(self,e):\n",
    "        self.epsilon = e\n",
    "\n",
    "    def act(self,s,train=True):\n",
    "        \"\"\" This function should return the next action to do:\n",
    "        an integer between 0 and 4 (not included) with a random exploration of epsilon\"\"\"\n",
    "        if train:\n",
    "            if np.random.rand() <= self.epsilon:\n",
    "                a = np.random.randint(0, self.n_action, size=1)[0]\n",
    "            else:\n",
    "                a = self.learned_act(s)\n",
    "        else: # in some cases, this can improve the performance.. remove it if poor performances\n",
    "            a = self.learned_act(s)\n",
    "\n",
    "        return a\n",
    "\n",
    "    def learned_act(self,s):\n",
    "        \"\"\" Act via the policy of the agent, from a given state s\n",
    "        it proposes an action a\"\"\"\n",
    "        pass\n",
    "\n",
    "    def reinforce(self, s, n_s, a, r, game_over_):\n",
    "        \"\"\" This function is the core of the learning algorithm. \n",
    "        It takes as an input the current state s_, the next state n_s_\n",
    "        the action a_ used to move from s_ to n_s_ and the reward r_.\n",
    "        \n",
    "        Its goal is to learn a policy.\n",
    "        \"\"\"\n",
    "        pass\n",
    "\n",
    "    def save(self):\n",
    "        \"\"\" This function returns basic stats if applicable: the\n",
    "        loss and/or the model\"\"\"\n",
    "        pass\n",
    "\n",
    "    def load(self):\n",
    "        \"\"\" This function allows to restore a model\"\"\"\n",
    "        pass"
   ]
  },
  {
   "cell_type": "markdown",
   "metadata": {},
   "source": [
    "***\n",
    "__Question 1__:\n",
    "Explain the function act. Why is ```epsilon``` essential?"
   ]
  },
  {
   "cell_type": "markdown",
   "metadata": {},
   "source": [
    "> The function act defines the behaviour of the agent. It takes the current state of the environment as input (`state`) and returns the action that the agent should take.\n",
    ">\n",
    "> When deciding which action to pick next, an agent is confronted with the exploration/exploitation dilemma. Should it exploit the best action seen so far or try to explore the environment more in case there is a better action it hasn't learned yet. There are many exploration strategies which exist, one of the most simple ones is the $\\varepsilon$-greedy exploration policy where the agent explores a random action with probability $\\varepsilon$ and otherwise exploits best action that it has learned. The value of $\\varepsilon$ is very important because it determines how much exploration the agent should do."
   ]
  },
  {
   "cell_type": "markdown",
   "metadata": {},
   "source": [
    "***\n",
    "### The Game"
   ]
  },
  {
   "cell_type": "markdown",
   "metadata": {},
   "source": [
    "The ```Agent``` and the ```Environment``` work in an interlaced way as in the following (take some time to understand this code as it is the core of the project)\n",
    "\n",
    "```python\n",
    "\n",
    "epoch = 300\n",
    "env = Environment()\n",
    "agent = Agent()\n",
    "\n",
    "\n",
    "# Number of won games\n",
    "score = 0\n",
    "loss = 0\n",
    "\n",
    "\n",
    "for e in range(epoch):\n",
    "    # At each epoch, we restart to a fresh game and get the initial state\n",
    "    state = env.reset()\n",
    "    # This assumes that the games will end\n",
    "    game_over = False\n",
    "\n",
    "    win = 0\n",
    "    lose = 0\n",
    "    \n",
    "    while not game_over:\n",
    "        # The agent performs an action\n",
    "        action = agent.act(state)\n",
    "\n",
    "        # Apply an action to the environment, get the next state, the reward\n",
    "        # and if the games end\n",
    "        prev_state = state\n",
    "        state, reward, game_over = env.act(action)\n",
    "\n",
    "        # Update the counters\n",
    "        if reward > 0:\n",
    "            win = win + reward\n",
    "        if reward < 0:\n",
    "            lose = lose -reward\n",
    "\n",
    "        # Apply the reinforcement strategy\n",
    "        loss = agent.reinforce(prev_state, state,  action, reward, game_over)\n",
    "\n",
    "    # Save as a mp4\n",
    "    if e % 10 == 0:\n",
    "        env.draw(e)\n",
    "\n",
    "    # Update stats\n",
    "    score += win-lose\n",
    "\n",
    "    print(\"Epoch {:03d}/{:03d} | Loss {:.4f} | Win/lose count {}/{} ({})\"\n",
    "          .format(e, epoch, loss, win, lose, win-lose))\n",
    "    agent.save()\n",
    "```"
   ]
  },
  {
   "cell_type": "markdown",
   "metadata": {},
   "source": [
    "# The game, *eat cheese*"
   ]
  },
  {
   "cell_type": "markdown",
   "metadata": {},
   "source": [
    "A rat runs on an island and tries to eat as much as possible. The island is subdivided into $N\\times N$ cells, in which there are cheese (+0.5) and poisonous cells (-1). The rat has a visibility of 2 cells (thus it can see $5^2$ cells). The rat is given a time $T$ to accumulate as much food as possible. It can perform 4 actions: going up, down, left, right. \n",
    "\n",
    "The goal is to code an agent to solve this task that will learn by trial and error. We propose the following environment:"
   ]
  },
  {
   "cell_type": "code",
   "execution_count": 4,
   "metadata": {
    "collapsed": true
   },
   "outputs": [],
   "source": [
    "class Environment(object):\n",
    "    def __init__(self, grid_size=10, max_time=500, temperature=0.1):\n",
    "        grid_size = grid_size+4\n",
    "        self.grid_size = grid_size\n",
    "        self.max_time = max_time\n",
    "        self.temperature = temperature\n",
    "\n",
    "        #board on which one plays\n",
    "        self.board = np.zeros((grid_size,grid_size))\n",
    "        self.position = np.zeros((grid_size,grid_size))\n",
    "\n",
    "        # coordinate of the cat\n",
    "        self.x = 0\n",
    "        self.y = 1\n",
    "\n",
    "        # self time\n",
    "        self.t = 0\n",
    "\n",
    "        self.scale=16\n",
    "\n",
    "        self.to_draw = np.zeros((max_time+2, grid_size*self.scale, grid_size*self.scale, 3))\n",
    "\n",
    "\n",
    "    def draw(self,e):\n",
    "        skvideo.io.vwrite(str(e) + '.mp4', self.to_draw)\n",
    "\n",
    "    def get_frame(self,t):\n",
    "        b = np.zeros((self.grid_size,self.grid_size,3))+128\n",
    "        b[self.board>0,0] = 256\n",
    "        b[self.board < 0, 2] = 256\n",
    "        b[self.x,self.y,:]=256\n",
    "        b[-2:,:,:]=0\n",
    "        b[:,-2:,:]=0\n",
    "        b[:2,:,:]=0\n",
    "        b[:,:2,:]=0\n",
    "        \n",
    "        b =  cv2.resize(b, None, fx=self.scale, fy=self.scale, interpolation=cv2.INTER_NEAREST)\n",
    "\n",
    "        self.to_draw[t,:,:,:]=b\n",
    "\n",
    "\n",
    "    def act(self, action):\n",
    "        \"\"\"This function returns the new state, reward and decides if the\n",
    "        game ends.\"\"\"\n",
    "\n",
    "        self.get_frame(int(self.t))\n",
    "\n",
    "        self.position = np.zeros((self.grid_size, self.grid_size))\n",
    "\n",
    "        self.position[0:2,:]= -1\n",
    "        self.position[:,0:2] = -1\n",
    "        self.position[-2:, :] = -1\n",
    "        self.position[-2:, :] = -1\n",
    "\n",
    "        self.position[self.x, self.y] = 1\n",
    "        if action == 0:\n",
    "            if self.x == self.grid_size-3:\n",
    "                self.x = self.x-1\n",
    "            else:\n",
    "                self.x = self.x + 1\n",
    "        elif action == 1:\n",
    "            if self.x == 2:\n",
    "                self.x = self.x+1\n",
    "            else:\n",
    "                self.x = self.x-1\n",
    "        elif action == 2:\n",
    "            if self.y == self.grid_size - 3:\n",
    "                self.y = self.y - 1\n",
    "            else:\n",
    "                self.y = self.y + 1\n",
    "        elif action == 3:\n",
    "            if self.y == 2:\n",
    "                self.y = self.y + 1\n",
    "            else:\n",
    "                self.y = self.y - 1\n",
    "        else:\n",
    "            RuntimeError('Error: action not recognized')\n",
    "\n",
    "        self.t = self.t + 1\n",
    "        reward = self.board[self.x, self.y]\n",
    "        self.board[self.x, self.y] = 0\n",
    "        game_over = self.t > self.max_time\n",
    "        state = np.concatenate((self.board.reshape(self.grid_size, self.grid_size,1),\n",
    "                        self.position.reshape(self.grid_size, self.grid_size,1)),axis=2)\n",
    "        state = state[self.x-2:self.x+3,self.y-2:self.y+3,:]\n",
    "\n",
    "        return state, reward, game_over\n",
    "\n",
    "    def reset(self):\n",
    "        \"\"\"This function resets the game and returns the initial state\"\"\"\n",
    "\n",
    "        self.x = np.random.randint(3, self.grid_size-3, size=1)[0]\n",
    "        self.y = np.random.randint(3, self.grid_size-3, size=1)[0]\n",
    "\n",
    "\n",
    "        bonus = 0.5*np.random.binomial(1,self.temperature,size=self.grid_size**2)\n",
    "        bonus = bonus.reshape(self.grid_size,self.grid_size)\n",
    "\n",
    "        malus = -1.0*np.random.binomial(1,self.temperature,size=self.grid_size**2)\n",
    "        malus = malus.reshape(self.grid_size, self.grid_size)\n",
    "\n",
    "        self.to_draw = np.zeros((self.max_time+2, self.grid_size*self.scale, self.grid_size*self.scale, 3))\n",
    "\n",
    "\n",
    "        malus[bonus>0]=0\n",
    "\n",
    "        self.board = bonus + malus\n",
    "\n",
    "        self.position = np.zeros((self.grid_size, self.grid_size))\n",
    "        self.position[0:2,:]= -1\n",
    "        self.position[:,0:2] = -1\n",
    "        self.position[-2:, :] = -1\n",
    "        self.position[-2:, :] = -1\n",
    "        self.board[self.x,self.y] = 0\n",
    "        self.t = 0\n",
    "\n",
    "        state = np.concatenate((\n",
    "                               self.board.reshape(self.grid_size, self.grid_size,1),\n",
    "                        self.position.reshape(self.grid_size, self.grid_size,1)),axis=2)\n",
    "\n",
    "        state = state[self.x - 2:self.x + 3, self.y - 2:self.y + 3, :]\n",
    "        return state"
   ]
  },
  {
   "cell_type": "markdown",
   "metadata": {},
   "source": [
    "The following elements are important because they correspond to the hyper parameters for this project:"
   ]
  },
  {
   "cell_type": "code",
   "execution_count": 5,
   "metadata": {},
   "outputs": [],
   "source": [
    "# parameters\n",
    "size = 13\n",
    "T=200\n",
    "temperature=0.3\n",
    "epochs_train=50 # set small when debugging\n",
    "epochs_test=10 # set small when debugging\n",
    "\n",
    "# display videos\n",
    "def display_videos(name):\n",
    "    video = io.open(name, 'r+b').read()\n",
    "    encoded = base64.b64encode(video)\n",
    "    return '''<video alt=\"test\" controls>\n",
    "                <source src=\"data:video/mp4;base64,{0}\" type=\"video/mp4\" />\n",
    "             </video>'''.format(encoded.decode('ascii'))"
   ]
  },
  {
   "cell_type": "markdown",
   "metadata": {},
   "source": [
    "__Question 2__ Explain the use of the arrays ```position``` and ```board```."
   ]
  },
  {
   "cell_type": "markdown",
   "metadata": {},
   "source": [
    "> The `position` array is used to represent the topology of the board. The value -1 assigned to its sides is used to keep the rat inside the board.\n",
    ">\n",
    "> The array `board` represents the positions of poison and food in the game. Each position is assigned a reward according to whether it is food (positive reward), poison (negative reward) or empty (zero reward).\n"
   ]
  },
  {
   "cell_type": "markdown",
   "metadata": {},
   "source": [
    "## Random Agent"
   ]
  },
  {
   "cell_type": "markdown",
   "metadata": {},
   "source": [
    "***\n",
    "__Question 3__ Implement a random Agent (only ```learned_act``` needs to be implemented):"
   ]
  },
  {
   "cell_type": "code",
   "execution_count": 6,
   "metadata": {
    "collapsed": true
   },
   "outputs": [],
   "source": [
    "class RandomAgent(Agent):\n",
    "    def __init__(self):\n",
    "        super(RandomAgent, self).__init__()\n",
    "        pass\n",
    "\n",
    "    def learned_act(self, s):\n",
    "        action = np.random.randint(4)\n",
    "        return action"
   ]
  },
  {
   "cell_type": "markdown",
   "metadata": {},
   "source": [
    "***\n",
    "***\n",
    "__Question 4__ Visualize the game moves. You need to fill in the following function for the evaluation:"
   ]
  },
  {
   "cell_type": "code",
   "execution_count": 7,
   "metadata": {
    "collapsed": true
   },
   "outputs": [],
   "source": [
    "def test(agent,env,epochs,prefix=''):\n",
    "    # Number of won games\n",
    "    score = 0\n",
    "    for e in range(epochs):\n",
    "        state = env.reset()\n",
    "        game_over = False\n",
    "        \n",
    "        win = 0\n",
    "        lose = 0\n",
    "\n",
    "        while not game_over:\n",
    "            action = agent.learned_act(state)\n",
    "            state, reward, game_over = env.act(action)\n",
    "            if reward > 0:\n",
    "                win = win + reward\n",
    "            if reward < 0:\n",
    "                lose = lose - reward\n",
    "        \n",
    "        # Save as a mp4\n",
    "        env.draw(prefix+str(e))\n",
    "\n",
    "        # Update stats\n",
    "        score = score + win-lose\n",
    "\n",
    "        print(\"Win/lose count {}/{}. Average score ({})\"\n",
    "              .format(win, lose, score/(1+e)))\n",
    "    print('Final score: '+str(score/epochs))"
   ]
  },
  {
   "cell_type": "code",
   "execution_count": 8,
   "metadata": {},
   "outputs": [
    {
     "name": "stdout",
     "output_type": "stream",
     "text": [
      "Win/lose count 8.0/10.0. Average score (-2.0)\n",
      "Win/lose count 12.0/13.0. Average score (-1.5)\n",
      "Win/lose count 8.5/8.0. Average score (-0.8333333333333334)\n",
      "Win/lose count 9.5/14.0. Average score (-1.75)\n",
      "Win/lose count 10.0/16.0. Average score (-2.6)\n",
      "Win/lose count 7.5/18.0. Average score (-3.9166666666666665)\n",
      "Win/lose count 10.5/11.0. Average score (-3.4285714285714284)\n",
      "Win/lose count 7.5/14.0. Average score (-3.8125)\n",
      "Win/lose count 9.5/14.0. Average score (-3.888888888888889)\n",
      "Win/lose count 7.0/8.0. Average score (-3.6)\n",
      "Final score: -3.6\n"
     ]
    },
    {
     "data": {
      "text/html": [
       "<video alt=\"test\" controls>\n",
       "                <source src=\"data:video/mp4;base64,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\" type=\"video/mp4\" />\n",
       "             </video>"
      ],
      "text/plain": [
       "<IPython.core.display.HTML object>"
      ]
     },
     "execution_count": 8,
     "metadata": {},
     "output_type": "execute_result"
    }
   ],
   "source": [
    "# Initialize the game\n",
    "env = Environment(grid_size=size, max_time=T,temperature=temperature)\n",
    "\n",
    "# Initialize the agent!\n",
    "agent = RandomAgent()\n",
    "\n",
    "test(agent,env,epochs_test,prefix='random')\n",
    "HTML(display_videos('random0.mp4'))"
   ]
  },
  {
   "cell_type": "markdown",
   "metadata": {},
   "source": [
    "***\n",
    "## DQN"
   ]
  },
  {
   "cell_type": "markdown",
   "metadata": {},
   "source": [
    "Let us assume here that $T=\\infty$.\n",
    "\n",
    "***\n",
    "__Question 5__ Let $\\pi$ be a policy, show that:\n",
    "\n",
    "\\begin{equation*}\n",
    "Q^{\\pi}(s,a)=E_{(s',a')\\sim p(.|s,a)}[r(s,a)+\\gamma Q^{\\pi}(s',a')]\n",
    "\\end{equation*}\n",
    "\n",
    "Then, show that for the optimal policy $\\pi^*$ (we assume its existence), the following holds: \n",
    "\n",
    "\\begin{equation*}\n",
    "Q^{*}(s,a)=E_{s'\\sim \\pi^*(.|s,a)}[r(s,a)+\\gamma\\max_{a'}Q^{*}(s',a')].\n",
    "\\end{equation*}\n",
    "Finally, deduce that a plausible objective is:\n",
    "\n",
    "\\begin{equation*}\n",
    "\\mathcal{L}(\\theta)=E_{s' \\sim \\pi^*(.|s,a)}\\Vert r+\\gamma\\max\\max_{a'}Q(s',a',\\theta)-Q(s,a,\\theta)\\Vert^{2}.\n",
    "\\end{equation*}\n",
    "\n",
    "\n"
   ]
  },
  {
   "cell_type": "markdown",
   "metadata": {},
   "source": [
    "> Let's derive the Bellman equation for $Q^{\\pi}(s, a)$:\n",
    ">\n",
    "> \n",
    "> \\begin{equation*}\n",
    " \\begin{aligned}\n",
    "Q^{\\pi}(s, a) &= \\mathbb{E}_{\\pi}(\\sum_{k=0}^\\infty \\gamma^k r_{t+k+1}| s_t = s, a_t = a) \\\\\n",
    "            &= r(s, a) + \\mathbb{E}_{\\pi}(\\sum_{k=1}^\\infty \\gamma^k r_{t+k+1} | s_t = s, a_t = a) \\\\\n",
    "            &= r(s, a) + \\gamma \\sum_{s', a'} \\mathbb{P}(s_{t+1} = s', a_{t+1} = a'| s_t = s, a_t = a)\\mathbb{E}_{\\pi}(\\sum_{k=1}^\\infty \\gamma^{k-1} r_{t+k+1} | s_{t+1} = s', a_{t+1} = a') \\\\\n",
    "            &= \\sum_{s', a'} \\mathbb{P}(s_{t+1} = s', a_{t+1} = a'| s_t = s, a_t = a) [r(s, a) + \\gamma \\mathbb{E}_{\\pi}(\\sum_{k=1}^\\infty \\gamma^{k-1} r_{t+k+1} | s_{t+1} = s', a_{t+1} = a')] \\\\\n",
    "            &= \\sum_{s', a'} \\mathbb{P}(s_{t+1} = s', a_{t+1} = a'| s_t = s, a_t = a) [r(s, a) + \\gamma Q^{\\pi}(s',a')] \\\\\n",
    "            &= E_{(s',a')\\sim p(.|s,a)}[r(s,a)+\\gamma Q^{\\pi}(s',a')]\n",
    "\\end{aligned}\n",
    "\\end{equation*}\n",
    " \n",
    "> Similarly, by using $Q^* = \\max_{\\pi}Q^\\pi$ we find that:\n",
    ">\n",
    ">\\begin{equation*}\n",
    "\\begin{aligned}\n",
    "Q^*(s, a) &= r(s, a) + \\gamma \\sum_{s', a'} \\mathbb{P}(s_{t+1} = s', a_{t+1} = a'| s_t = s, a_t = a) \\max_{\\pi} \\mathbb{E}_{\\pi}(\\sum_{k=1}^\\infty \\gamma^{k-1} r_{t+k+1} | s_{t+1} = s', a_{t+1} = a') \\\\\n",
    "               &= E_{s'\\sim \\pi^*(.|s,a)}[r(s,a)+\\gamma \\max_{a'}Q^*(s',a')]\n",
    "\\end{aligned}\n",
    "\\end{equation*}\n",
    "> Finally, we can define the following objective for the DQN algorithm which aims to approximate $Q^*(s, a)$:\n",
    ">\n",
    "> \\begin{equation*}\n",
    "\\mathcal{L}(\\theta)=E_{s' \\sim \\pi^*(.|s,a)}\\Vert Q^*(s, a)-Q(s,a,\\theta)\\Vert^{2}\n",
    "\\end{equation*}\n",
    ">\n",
    "> Using the previous expression derived for $Q^*(s, a)$, we can deduce that a plausible objective function is given by : \n",
    ">\n",
    ">\\begin{equation*}\n",
    "\\mathcal{L}(\\theta)=E_{s' \\sim \\pi^*(.|s,a)}\\Vert r+\\gamma \\max_{a'}Q(s',a',\\theta)-Q(s,a,\\theta)\\Vert^{2}.\n",
    "\\end{equation*}\n",
    "\n"
   ]
  },
  {
   "cell_type": "markdown",
   "metadata": {},
   "source": [
    "***\n",
    "The DQN-learning algorithm relies on these derivations to train the parameters $\\theta$ of a Deep Neural Network:\n",
    "\n",
    "1. At the state $s_t$, select the action $a_t$ with best reward using $Q_t$ and store the results;\n",
    "\n",
    "2. Obtain the new state $s_{t+1}$ from the environment $p$;\n",
    "\n",
    "3. Store $(s_t,a_t,s_{t+1})$;\n",
    "\n",
    "4. Obtain $Q_{t+1}$ by minimizing  $\\mathcal{L}$ from a recovered batch from the previously stored results.\n",
    "\n",
    "***\n",
    "__Question 6__ Implement the class ```Memory``` that stores moves (in a replay buffer) via ```remember``` and provides a ```random_access``` to these. Specify a maximum memory size to avoid side effects. You can for example use a ```list()``` and set by default ```max_memory=100```."
   ]
  },
  {
   "cell_type": "code",
   "execution_count": 9,
   "metadata": {
    "collapsed": true
   },
   "outputs": [],
   "source": [
    "class Memory(object):\n",
    "    def __init__(self, max_memory=100):\n",
    "        self.max_memory = max_memory\n",
    "        self.memory = list()\n",
    "\n",
    "    def remember(self, m):\n",
    "        self.memory.append(m)\n",
    "        if len(self.memory) > self.max_memory:\n",
    "            self.memory = self.memory[1:]\n",
    "\n",
    "    def random_access(self):\n",
    "        return random.sample(self.memory, 1)[0]"
   ]
  },
  {
   "cell_type": "markdown",
   "metadata": {},
   "source": [
    "***\n",
    "The pipeline we will use for training is given below:"
   ]
  },
  {
   "cell_type": "code",
   "execution_count": 10,
   "metadata": {
    "collapsed": true
   },
   "outputs": [],
   "source": [
    "def train(agent,env,epoch,prefix=''):\n",
    "    # Number of won games\n",
    "    score = 0\n",
    "    loss = 0\n",
    "\n",
    "    for e in range(epoch):\n",
    "        # At each epoch, we restart to a fresh game and get the initial state\n",
    "        state = env.reset()\n",
    "        # This assumes that the games will terminate\n",
    "        game_over = False\n",
    "\n",
    "        win = 0\n",
    "        lose = 0\n",
    "\n",
    "        while not game_over:\n",
    "            # The agent performs an action\n",
    "            action = agent.act(state)\n",
    "\n",
    "            # Apply an action to the environment, get the next state, the reward\n",
    "            # and if the games end\n",
    "            prev_state = state\n",
    "            state, reward, game_over = env.act(action)\n",
    "\n",
    "            # Update the counters\n",
    "            if reward > 0:\n",
    "                win = win + reward\n",
    "            if reward < 0:\n",
    "                lose = lose -reward\n",
    "\n",
    "            # Apply the reinforcement strategy\n",
    "            loss = agent.reinforce(prev_state, state,  action, reward, game_over)\n",
    "\n",
    "        # Save as a mp4\n",
    "        if e % 10 == 0:\n",
    "            env.draw(prefix+str(e))\n",
    "\n",
    "        # Update stats\n",
    "        score += win-lose\n",
    "\n",
    "        print(\"Epoch {:03d}/{:03d} | Loss {:.4f} | Win/lose count {}/{} ({})\"\n",
    "              .format(e, epoch, loss, win, lose, win-lose))\n",
    "        agent.save(name_weights=prefix+'model.h5',name_model=prefix+'model.json')"
   ]
  },
  {
   "cell_type": "markdown",
   "metadata": {},
   "source": [
    "***\n",
    "__Question 7__ Implement the DQN training algorithm using a cascade of fully connected layers. You can use different learning rate, batch size or memory size parameters. In particular, the loss might oscillate while the player will start to win the games. You have to find a good criterium."
   ]
  },
  {
   "cell_type": "code",
   "execution_count": 11,
   "metadata": {
    "collapsed": true
   },
   "outputs": [],
   "source": [
    "class DQN(Agent):\n",
    "    def __init__(self, grid_size,  epsilon = 0.1, memory_size=100, batch_size = 16,n_state=2):\n",
    "        super(DQN, self).__init__(epsilon = epsilon)\n",
    "\n",
    "        # Discount for Q learning\n",
    "        self.discount = 0.99\n",
    "        \n",
    "        self.grid_size = grid_size\n",
    "        \n",
    "        # number of state\n",
    "        self.n_state = n_state\n",
    "\n",
    "        # Memory\n",
    "        self.memory = Memory(memory_size)\n",
    "        \n",
    "        # Batch size when learning\n",
    "        self.batch_size = batch_size\n",
    "\n",
    "    def learned_act(self, s):\n",
    "        y = self.model.predict(np.expand_dims(s, axis=0), batch_size=1)[0]\n",
    "        return np.argmax(y)\n",
    "\n",
    "    def reinforce(self, s_, n_s_, a_, r_, game_over_):\n",
    "        # Two steps: first memorize the states, second learn from the pool\n",
    "        \n",
    "        self.memory.remember([s_, n_s_, a_, r_, game_over_])\n",
    "        \n",
    "        input_states = np.zeros((self.batch_size, 5,5,self.n_state))\n",
    "        target_q = np.zeros((self.batch_size, 4))\n",
    "        \n",
    "        for i in range(self.batch_size):\n",
    "            s, n_s, a, r, game_over = self.memory.random_access()\n",
    "            input_states[i] = s\n",
    "            \n",
    "            # Set other targets to predicted value because we only learn the current action\n",
    "            target_q[i] = self.model.predict(np.expand_dims(s, axis=0), batch_size=1)[0]\n",
    "            \n",
    "            # target = r if game_over and r + discount_factor * max_{a'} Q(next_state, a', \\theta) if not\n",
    "            target_q[i, a] = r\n",
    "            \n",
    "            if not game_over:\n",
    "                predicted_value = self.model.predict(np.expand_dims(n_s, axis=0), batch_size=1)\n",
    "                target_q[i, a] = r + self.discount * predicted_value[0].max()\n",
    "        ######## FILL IN\n",
    "        # HINT: Clip the target to avoid exploiding gradients.. -- clipping is a bit tighter\n",
    "        target_q = np.clip(target_q, -3, 3)\n",
    "\n",
    "        l = self.model.train_on_batch(input_states, target_q)\n",
    "\n",
    "\n",
    "        return l\n",
    "\n",
    "    def save(self,name_weights='model.h5',name_model='model.json'):\n",
    "        self.model.save_weights(name_weights, overwrite=True)\n",
    "        with open(name_model, \"w\") as outfile:\n",
    "            json.dump(self.model.to_json(), outfile)\n",
    "            \n",
    "    def load(self,name_weights='model.h5',name_model='model.json'):\n",
    "        with open(name_model, \"r\") as jfile:\n",
    "            model = model_from_json(json.load(jfile))\n",
    "        model.load_weights(name_weights)\n",
    "        model.compile(\"sgd\", \"mse\")\n",
    "        self.model = model\n",
    "\n",
    "            \n",
    "class DQN_FC(DQN):\n",
    "    def __init__(self, *args, lr=0.1,**kwargs):\n",
    "        super(DQN_FC, self).__init__( *args,**kwargs)\n",
    "        \n",
    "        # NN Model\n",
    "        \n",
    "        model = Sequential([\n",
    "            Reshape((-1,), input_shape=(5, 5, self.n_state)),\n",
    "            Dense(64, activation=\"relu\"),\n",
    "            Dense(4)\n",
    "        ])\n",
    "        \n",
    "        #model.compile(sgd(lr=lr, decay=1e-4, momentum=0.0), \"mse\")\n",
    "        model.compile(Adam(lr=lr, beta_1=0.9, beta_2=0.999), \"mse\")\n",
    "        self.model = model\n",
    "        "
   ]
  },
  {
   "cell_type": "code",
   "execution_count": 12,
   "metadata": {
    "collapsed": true
   },
   "outputs": [
    {
     "name": "stdout",
     "output_type": "stream",
     "text": [
      "Epoch 000/050 | Loss 0.0210 | Win/lose count 4.0/8.0 (-4.0)\n",
      "Epoch 001/050 | Loss 0.0081 | Win/lose count 7.0/2.0 (5.0)\n",
      "Epoch 002/050 | Loss 0.0053 | Win/lose count 6.0/4.0 (2.0)\n",
      "Epoch 003/050 | Loss 0.0176 | Win/lose count 9.5/7.0 (2.5)\n",
      "Epoch 004/050 | Loss 0.1078 | Win/lose count 12.5/5.0 (7.5)\n",
      "Epoch 005/050 | Loss 0.0116 | Win/lose count 13.0/15.0 (-2.0)\n",
      "Epoch 006/050 | Loss 0.0042 | Win/lose count 2.5/3.0 (-0.5)\n",
      "Epoch 007/050 | Loss 0.0025 | Win/lose count 8.5/4.0 (4.5)\n",
      "Epoch 008/050 | Loss 0.0102 | Win/lose count 10.5/6.0 (4.5)\n",
      "Epoch 009/050 | Loss 0.0038 | Win/lose count 12.5/9.0 (3.5)\n",
      "Epoch 010/050 | Loss 0.0053 | Win/lose count 11.5/11.0 (0.5)\n",
      "Epoch 011/050 | Loss 0.0096 | Win/lose count 13.0/10.0 (3.0)\n",
      "Epoch 012/050 | Loss 0.0067 | Win/lose count 12.5/8.0 (4.5)\n",
      "Epoch 013/050 | Loss 0.0022 | Win/lose count 7.5/2.0 (5.5)\n",
      "Epoch 014/050 | Loss 0.0031 | Win/lose count 14.0/7.0 (7.0)\n",
      "Epoch 015/050 | Loss 0.0054 | Win/lose count 13.5/8.0 (5.5)\n",
      "Epoch 016/050 | Loss 0.0029 | Win/lose count 8.5/7.0 (1.5)\n",
      "Epoch 017/050 | Loss 0.0018 | Win/lose count 12.5/7.0 (5.5)\n",
      "Epoch 018/050 | Loss 0.0013 | Win/lose count 12.5/5.0 (7.5)\n",
      "Epoch 019/050 | Loss 0.0048 | Win/lose count 8.0/6.0 (2.0)\n",
      "Epoch 020/050 | Loss 0.0010 | Win/lose count 12.0/6.0 (6.0)\n",
      "Epoch 021/050 | Loss 0.0027 | Win/lose count 12.0/11.0 (1.0)\n",
      "Epoch 022/050 | Loss 0.1258 | Win/lose count 8.0/7.0 (1.0)\n",
      "Epoch 023/050 | Loss 0.0018 | Win/lose count 9.5/8.0 (1.5)\n",
      "Epoch 024/050 | Loss 0.0142 | Win/lose count 15.5/12.0 (3.5)\n",
      "Epoch 025/050 | Loss 0.0052 | Win/lose count 11.5/10.0 (1.5)\n",
      "Epoch 026/050 | Loss 0.0011 | Win/lose count 11.5/6.0 (5.5)\n",
      "Epoch 027/050 | Loss 0.0011 | Win/lose count 11.5/6.0 (5.5)\n",
      "Epoch 028/050 | Loss 0.0033 | Win/lose count 11.0/5.0 (6.0)\n",
      "Epoch 029/050 | Loss 0.0021 | Win/lose count 7.0/7.0 (0.0)\n",
      "Epoch 030/050 | Loss 0.0034 | Win/lose count 12.0/2.0 (10.0)\n",
      "Epoch 031/050 | Loss 0.0037 | Win/lose count 10.5/5.0 (5.5)\n",
      "Epoch 032/050 | Loss 0.0014 | Win/lose count 8.0/4.0 (4.0)\n",
      "Epoch 033/050 | Loss 0.0017 | Win/lose count 18.0/12.0 (6.0)\n",
      "Epoch 034/050 | Loss 0.0020 | Win/lose count 15.0/9.0 (6.0)\n",
      "Epoch 035/050 | Loss 0.1188 | Win/lose count 6.5/7.0 (-0.5)\n",
      "Epoch 036/050 | Loss 0.0015 | Win/lose count 6.5/9.0 (-2.5)\n",
      "Epoch 037/050 | Loss 0.0039 | Win/lose count 14.0/7.0 (7.0)\n",
      "Epoch 038/050 | Loss 0.0080 | Win/lose count 13.0/12.0 (1.0)\n",
      "Epoch 039/050 | Loss 0.0029 | Win/lose count 10.0/8.0 (2.0)\n",
      "Epoch 040/050 | Loss 0.0043 | Win/lose count 10.0/11.0 (-1.0)\n",
      "Epoch 041/050 | Loss 0.0085 | Win/lose count 14.0/10.0 (4.0)\n",
      "Epoch 042/050 | Loss 0.0152 | Win/lose count 17.5/10.0 (7.5)\n",
      "Epoch 043/050 | Loss 0.0014 | Win/lose count 9.0/4.0 (5.0)\n",
      "Epoch 044/050 | Loss 0.0030 | Win/lose count 11.0/7.0 (4.0)\n",
      "Epoch 045/050 | Loss 0.0022 | Win/lose count 6.5/6.0 (0.5)\n",
      "Epoch 046/050 | Loss 0.0022 | Win/lose count 9.5/7.0 (2.5)\n",
      "Epoch 047/050 | Loss 0.0009 | Win/lose count 10.5/6.0 (4.5)\n",
      "Epoch 048/050 | Loss 0.0050 | Win/lose count 12.0/6.0 (6.0)\n",
      "Epoch 049/050 | Loss 0.0036 | Win/lose count 11.5/10.0 (1.5)\n"
     ]
    },
    {
     "data": {
      "text/html": [
       "<video alt=\"test\" controls>\n",
       "                <source src=\"data:video/mp4;base64,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\" type=\"video/mp4\" />\n",
       "             </video>"
      ],
      "text/plain": [
       "<IPython.core.display.HTML object>"
      ]
     },
     "execution_count": 12,
     "metadata": {},
     "output_type": "execute_result"
    }
   ],
   "source": [
    "epochs_train = 50\n",
    "env = Environment(grid_size=size, max_time=T, temperature=0.3)\n",
    "agent = DQN_FC(size, lr=.01, epsilon = 0.3, memory_size=2000, batch_size = 16)\n",
    "train(agent, env, epochs_train, prefix='fc_train')\n",
    "HTML(display_videos('fc_train10.mp4'))"
   ]
  },
  {
   "cell_type": "code",
   "execution_count": 13,
   "metadata": {},
   "outputs": [
    {
     "name": "stdout",
     "output_type": "stream",
     "text": [
      "Epoch 000/050 | Loss 0.0030 | Win/lose count 0/0 (0)\n",
      "Epoch 001/050 | Loss 0.0025 | Win/lose count 2.0/2.0 (0.0)\n",
      "Epoch 002/050 | Loss 0.0023 | Win/lose count 2.5/2.0 (0.5)\n",
      "Epoch 003/050 | Loss 0.0032 | Win/lose count 2.5/2.0 (0.5)\n",
      "Epoch 004/050 | Loss 0.0038 | Win/lose count 1.5/4.0 (-2.5)\n",
      "Epoch 005/050 | Loss 0.0048 | Win/lose count 5.5/2.0 (3.5)\n",
      "Epoch 006/050 | Loss 0.0914 | Win/lose count 3.5/3.0 (0.5)\n",
      "Epoch 007/050 | Loss 0.0062 | Win/lose count 4.0/5.0 (-1.0)\n",
      "Epoch 008/050 | Loss 0.0080 | Win/lose count 3.0/4.0 (-1.0)\n",
      "Epoch 009/050 | Loss 0.1004 | Win/lose count 2.0/5.0 (-3.0)\n",
      "Epoch 010/050 | Loss 0.0060 | Win/lose count 4.0/6.0 (-2.0)\n",
      "Epoch 011/050 | Loss 0.0045 | Win/lose count 2.0/3.0 (-1.0)\n",
      "Epoch 012/050 | Loss 0.0028 | Win/lose count 1.0/2.0 (-1.0)\n",
      "Epoch 013/050 | Loss 0.0017 | Win/lose count 3.5/7.0 (-3.5)\n",
      "Epoch 014/050 | Loss 0.0019 | Win/lose count 2.0/4.0 (-2.0)\n",
      "Epoch 015/050 | Loss 0.0028 | Win/lose count 5.0/5.0 (0.0)\n",
      "Epoch 016/050 | Loss 0.0020 | Win/lose count 4.0/4.0 (0.0)\n",
      "Epoch 017/050 | Loss 0.0013 | Win/lose count 5.5/1.0 (4.5)\n",
      "Epoch 018/050 | Loss 0.1066 | Win/lose count 2.5/4.0 (-1.5)\n",
      "Epoch 019/050 | Loss 0.0020 | Win/lose count 6.5/2.0 (4.5)\n",
      "Epoch 020/050 | Loss 0.0012 | Win/lose count 5.5/2.0 (3.5)\n",
      "Epoch 021/050 | Loss 0.0049 | Win/lose count 1.0/1.0 (0.0)\n",
      "Epoch 022/050 | Loss 0.0088 | Win/lose count 5.5/0 (5.5)\n",
      "Epoch 023/050 | Loss 0.0009 | Win/lose count 3.0/2.0 (1.0)\n",
      "Epoch 024/050 | Loss 0.0017 | Win/lose count 6.0/1.0 (5.0)\n",
      "Epoch 025/050 | Loss 0.0038 | Win/lose count 4.5/4.0 (0.5)\n",
      "Epoch 026/050 | Loss 0.0016 | Win/lose count 2.0/2.0 (0.0)\n",
      "Epoch 027/050 | Loss 0.0026 | Win/lose count 2.5/2.0 (0.5)\n",
      "Epoch 028/050 | Loss 0.0047 | Win/lose count 3.5/2.0 (1.5)\n",
      "Epoch 029/050 | Loss 0.0009 | Win/lose count 4.5/2.0 (2.5)\n",
      "Epoch 030/050 | Loss 0.0010 | Win/lose count 3.0/1.0 (2.0)\n",
      "Epoch 031/050 | Loss 0.0036 | Win/lose count 2.5/6.0 (-3.5)\n",
      "Epoch 032/050 | Loss 0.0017 | Win/lose count 6.0/3.0 (3.0)\n",
      "Epoch 033/050 | Loss 0.0018 | Win/lose count 5.5/5.0 (0.5)\n",
      "Epoch 034/050 | Loss 0.0009 | Win/lose count 3.5/4.0 (-0.5)\n",
      "Epoch 035/050 | Loss 0.0012 | Win/lose count 4.0/3.0 (1.0)\n",
      "Epoch 036/050 | Loss 0.0011 | Win/lose count 4.0/1.0 (3.0)\n",
      "Epoch 037/050 | Loss 0.0011 | Win/lose count 2.0/1.0 (1.0)\n",
      "Epoch 038/050 | Loss 0.0034 | Win/lose count 4.5/4.0 (0.5)\n",
      "Epoch 039/050 | Loss 0.0008 | Win/lose count 2.0/3.0 (-1.0)\n",
      "Epoch 040/050 | Loss 0.0903 | Win/lose count 5.0/5.0 (0.0)\n",
      "Epoch 041/050 | Loss 0.0010 | Win/lose count 2.5/3.0 (-0.5)\n",
      "Epoch 042/050 | Loss 0.1228 | Win/lose count 5.5/4.0 (1.5)\n",
      "Epoch 043/050 | Loss 0.0039 | Win/lose count 3.5/3.0 (0.5)\n",
      "Epoch 044/050 | Loss 0.0034 | Win/lose count 2.5/5.0 (-2.5)\n",
      "Epoch 045/050 | Loss 0.0013 | Win/lose count 2.5/5.0 (-2.5)\n",
      "Epoch 046/050 | Loss 0.0045 | Win/lose count 4.5/3.0 (1.5)\n",
      "Epoch 047/050 | Loss 0.0020 | Win/lose count 2.0/4.0 (-2.0)\n",
      "Epoch 048/050 | Loss 0.0024 | Win/lose count 2.5/4.0 (-1.5)\n",
      "Epoch 049/050 | Loss 0.1369 | Win/lose count 4.5/3.0 (1.5)\n"
     ]
    },
    {
     "data": {
      "text/html": [
       "<video alt=\"test\" controls>\n",
       "                <source src=\"data:video/mp4;base64,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\" type=\"video/mp4\" />\n",
       "             </video>"
      ],
      "text/plain": [
       "<IPython.core.display.HTML object>"
      ]
     },
     "execution_count": 13,
     "metadata": {},
     "output_type": "execute_result"
    }
   ],
   "source": [
    "epochs_train = 50\n",
    "env = Environment(grid_size=size, max_time=T, temperature=0.1)\n",
    "agent = DQN_FC(size, lr=.01, epsilon = 0.3, memory_size=2000, batch_size = 16)\n",
    "train(agent, env, epochs_train, prefix='fc_train_low_temp')\n",
    "HTML(display_videos('fc_train_low_temp10.mp4'))"
   ]
  },
  {
   "cell_type": "markdown",
   "metadata": {},
   "source": [
    "***\n",
    "***\n",
    "__Question 8__ Implement the DQN training algorithm using a CNN (for example, 2 convolutional layers and one final fully connected layer)."
   ]
  },
  {
   "cell_type": "code",
   "execution_count": 14,
   "metadata": {
    "collapsed": true
   },
   "outputs": [],
   "source": [
    "class DQN_CNN(DQN):\n",
    "    def __init__(self, *args,lr=0.1,**kwargs):\n",
    "        super(DQN_CNN, self).__init__(*args,**kwargs)\n",
    "        \n",
    "        model = Sequential([\n",
    "            Conv2D(32, (2, 2), input_shape=(5, 5, self.n_state), \n",
    "                   data_format=\"channels_last\", activation=\"relu\"),\n",
    "            Conv2D(64, (2, 2), activation=\"relu\"),\n",
    "            MaxPooling2D(pool_size=(2, 2)),\n",
    "            Reshape((-1,)),\n",
    "            Dense(4)\n",
    "        ])\n",
    "        \n",
    "        model.compile(Adam(lr=lr, beta_1=0.9, beta_2=0.999), \"mse\")\n",
    "        self.model = model"
   ]
  },
  {
   "cell_type": "code",
   "execution_count": 15,
   "metadata": {
    "collapsed": true
   },
   "outputs": [
    {
     "name": "stdout",
     "output_type": "stream",
     "text": [
      "Epoch 000/050 | Loss 0.0158 | Win/lose count 3.0/5.0 (-2.0)\n",
      "Epoch 001/050 | Loss 0.0076 | Win/lose count 4.0/2.0 (2.0)\n",
      "Epoch 002/050 | Loss 0.1312 | Win/lose count 3.5/5.0 (-1.5)\n",
      "Epoch 003/050 | Loss 0.0028 | Win/lose count 4.5/5.0 (-0.5)\n",
      "Epoch 004/050 | Loss 0.0028 | Win/lose count 5.5/3.0 (2.5)\n",
      "Epoch 005/050 | Loss 0.0018 | Win/lose count 5.5/2.0 (3.5)\n",
      "Epoch 006/050 | Loss 0.0032 | Win/lose count 5.5/3.0 (2.5)\n",
      "Epoch 007/050 | Loss 0.0008 | Win/lose count 3.0/1.0 (2.0)\n",
      "Epoch 008/050 | Loss 0.0008 | Win/lose count 3.0/0 (3.0)\n",
      "Epoch 009/050 | Loss 0.0046 | Win/lose count 4.5/4.0 (0.5)\n",
      "Epoch 010/050 | Loss 0.0021 | Win/lose count 4.0/3.0 (1.0)\n",
      "Epoch 011/050 | Loss 0.0020 | Win/lose count 8.0/1.0 (7.0)\n",
      "Epoch 012/050 | Loss 0.0034 | Win/lose count 8.0/5.0 (3.0)\n",
      "Epoch 013/050 | Loss 0.0065 | Win/lose count 12.5/3.0 (9.5)\n",
      "Epoch 014/050 | Loss 0.0008 | Win/lose count 3.0/1.0 (2.0)\n",
      "Epoch 015/050 | Loss 0.0009 | Win/lose count 4.0/3.0 (1.0)\n",
      "Epoch 016/050 | Loss 0.0017 | Win/lose count 10.0/1.0 (9.0)\n",
      "Epoch 017/050 | Loss 0.0025 | Win/lose count 11.0/0 (11.0)\n",
      "Epoch 018/050 | Loss 0.0031 | Win/lose count 11.5/6.0 (5.5)\n",
      "Epoch 019/050 | Loss 0.1064 | Win/lose count 6.0/2.0 (4.0)\n",
      "Epoch 020/050 | Loss 0.0038 | Win/lose count 11.5/0 (11.5)\n",
      "Epoch 021/050 | Loss 0.0032 | Win/lose count 6.5/4.0 (2.5)\n",
      "Epoch 022/050 | Loss 0.0534 | Win/lose count 5.0/1.0 (4.0)\n",
      "Epoch 023/050 | Loss 0.0017 | Win/lose count 8.5/3.0 (5.5)\n",
      "Epoch 024/050 | Loss 0.0047 | Win/lose count 7.5/3.0 (4.5)\n",
      "Epoch 025/050 | Loss 0.0033 | Win/lose count 6.5/1.0 (5.5)\n",
      "Epoch 026/050 | Loss 0.0011 | Win/lose count 13.0/6.0 (7.0)\n",
      "Epoch 027/050 | Loss 0.0395 | Win/lose count 10.0/0 (10.0)\n",
      "Epoch 028/050 | Loss 0.0041 | Win/lose count 6.5/4.0 (2.5)\n",
      "Epoch 029/050 | Loss 0.0020 | Win/lose count 12.0/3.0 (9.0)\n",
      "Epoch 030/050 | Loss 0.0051 | Win/lose count 8.5/1.0 (7.5)\n",
      "Epoch 031/050 | Loss 0.1452 | Win/lose count 8.0/3.0 (5.0)\n",
      "Epoch 032/050 | Loss 0.0007 | Win/lose count 6.5/3.0 (3.5)\n",
      "Epoch 033/050 | Loss 0.0057 | Win/lose count 12.0/6.0 (6.0)\n",
      "Epoch 034/050 | Loss 0.0016 | Win/lose count 6.5/3.0 (3.5)\n",
      "Epoch 035/050 | Loss 0.0006 | Win/lose count 4.5/2.0 (2.5)\n",
      "Epoch 036/050 | Loss 0.0060 | Win/lose count 5.0/1.0 (4.0)\n",
      "Epoch 037/050 | Loss 0.0037 | Win/lose count 3.0/4.0 (-1.0)\n",
      "Epoch 038/050 | Loss 0.0088 | Win/lose count 11.5/3.0 (8.5)\n",
      "Epoch 039/050 | Loss 0.0053 | Win/lose count 14.0/4.0 (10.0)\n",
      "Epoch 040/050 | Loss 0.0006 | Win/lose count 9.5/2.0 (7.5)\n",
      "Epoch 041/050 | Loss 0.0033 | Win/lose count 11.5/5.0 (6.5)\n",
      "Epoch 042/050 | Loss 0.0030 | Win/lose count 19.0/1.0 (18.0)\n",
      "Epoch 043/050 | Loss 0.0040 | Win/lose count 13.5/2.0 (11.5)\n",
      "Epoch 044/050 | Loss 0.0023 | Win/lose count 9.0/2.0 (7.0)\n",
      "Epoch 045/050 | Loss 0.0023 | Win/lose count 13.0/4.0 (9.0)\n",
      "Epoch 046/050 | Loss 0.0017 | Win/lose count 8.0/7.0 (1.0)\n",
      "Epoch 047/050 | Loss 0.0013 | Win/lose count 4.0/1.0 (3.0)\n",
      "Epoch 048/050 | Loss 0.0084 | Win/lose count 8.5/5.0 (3.5)\n",
      "Epoch 049/050 | Loss 0.0056 | Win/lose count 11.0/3.0 (8.0)\n"
     ]
    },
    {
     "data": {
      "text/html": [
       "<video alt=\"test\" controls>\n",
       "                <source src=\"data:video/mp4;base64,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\" type=\"video/mp4\" />\n",
       "             </video>"
      ],
      "text/plain": [
       "<IPython.core.display.HTML object>"
      ]
     },
     "execution_count": 15,
     "metadata": {},
     "output_type": "execute_result"
    }
   ],
   "source": [
    "env = Environment(grid_size=size, max_time=T, temperature=0.3)\n",
    "agent = DQN_CNN(size, lr=.001, epsilon = 0.1, memory_size=2000, batch_size = 16)\n",
    "train(agent,env,epochs_train,prefix='cnn_train')\n",
    "HTML(display_videos('cnn_train10.mp4'))"
   ]
  },
  {
   "cell_type": "code",
   "execution_count": 16,
   "metadata": {},
   "outputs": [
    {
     "name": "stdout",
     "output_type": "stream",
     "text": [
      "Epoch 000/050 | Loss 0.0013 | Win/lose count 1.0/3.0 (-2.0)\n",
      "Epoch 001/050 | Loss 0.0008 | Win/lose count 1.0/2.0 (-1.0)\n",
      "Epoch 002/050 | Loss 0.0024 | Win/lose count 0.5/1.0 (-0.5)\n",
      "Epoch 003/050 | Loss 0.0023 | Win/lose count 0.5/1.0 (-0.5)\n",
      "Epoch 004/050 | Loss 0.0020 | Win/lose count 0.5/0 (0.5)\n",
      "Epoch 005/050 | Loss 0.0018 | Win/lose count 0.5/1.0 (-0.5)\n",
      "Epoch 006/050 | Loss 0.0024 | Win/lose count 0.5/1.0 (-0.5)\n",
      "Epoch 007/050 | Loss 0.0020 | Win/lose count 2.0/3.0 (-1.0)\n",
      "Epoch 008/050 | Loss 0.0010 | Win/lose count 1.5/3.0 (-1.5)\n",
      "Epoch 009/050 | Loss 0.0015 | Win/lose count 1.0/3.0 (-2.0)\n",
      "Epoch 010/050 | Loss 0.0032 | Win/lose count 3.0/0 (3.0)\n",
      "Epoch 011/050 | Loss 0.0023 | Win/lose count 3.0/0 (3.0)\n",
      "Epoch 012/050 | Loss 0.0092 | Win/lose count 4.0/2.0 (2.0)\n",
      "Epoch 013/050 | Loss 0.0015 | Win/lose count 1.0/0 (1.0)\n",
      "Epoch 014/050 | Loss 0.0017 | Win/lose count 1.5/0 (1.5)\n",
      "Epoch 015/050 | Loss 0.0011 | Win/lose count 5.0/0 (5.0)\n",
      "Epoch 016/050 | Loss 0.0012 | Win/lose count 2.5/4.0 (-1.5)\n",
      "Epoch 017/050 | Loss 0.0027 | Win/lose count 3.0/0 (3.0)\n",
      "Epoch 018/050 | Loss 0.0016 | Win/lose count 1.0/1.0 (0.0)\n",
      "Epoch 019/050 | Loss 0.0031 | Win/lose count 4.0/2.0 (2.0)\n",
      "Epoch 020/050 | Loss 0.0018 | Win/lose count 5.0/2.0 (3.0)\n",
      "Epoch 021/050 | Loss 0.0026 | Win/lose count 8.0/3.0 (5.0)\n",
      "Epoch 022/050 | Loss 0.0016 | Win/lose count 6.5/0 (6.5)\n",
      "Epoch 023/050 | Loss 0.0059 | Win/lose count 3.0/3.0 (0.0)\n",
      "Epoch 024/050 | Loss 0.1205 | Win/lose count 9.0/1.0 (8.0)\n",
      "Epoch 025/050 | Loss 0.0015 | Win/lose count 4.0/0 (4.0)\n",
      "Epoch 026/050 | Loss 0.0009 | Win/lose count 2.5/2.0 (0.5)\n",
      "Epoch 027/050 | Loss 0.1132 | Win/lose count 4.0/1.0 (3.0)\n",
      "Epoch 028/050 | Loss 0.0073 | Win/lose count 4.5/2.0 (2.5)\n",
      "Epoch 029/050 | Loss 0.0016 | Win/lose count 3.0/2.0 (1.0)\n",
      "Epoch 030/050 | Loss 0.0030 | Win/lose count 4.5/0 (4.5)\n",
      "Epoch 031/050 | Loss 0.0021 | Win/lose count 5.0/0 (5.0)\n",
      "Epoch 032/050 | Loss 0.0014 | Win/lose count 8.0/1.0 (7.0)\n",
      "Epoch 033/050 | Loss 0.0027 | Win/lose count 5.0/1.0 (4.0)\n",
      "Epoch 034/050 | Loss 0.0017 | Win/lose count 6.0/4.0 (2.0)\n",
      "Epoch 035/050 | Loss 0.0778 | Win/lose count 5.5/1.0 (4.5)\n",
      "Epoch 036/050 | Loss 0.0032 | Win/lose count 3.0/1.0 (2.0)\n",
      "Epoch 037/050 | Loss 0.0015 | Win/lose count 2.0/0 (2.0)\n",
      "Epoch 038/050 | Loss 0.0018 | Win/lose count 5.0/1.0 (4.0)\n",
      "Epoch 039/050 | Loss 0.0013 | Win/lose count 3.5/1.0 (2.5)\n",
      "Epoch 040/050 | Loss 0.0017 | Win/lose count 4.5/1.0 (3.5)\n",
      "Epoch 041/050 | Loss 0.1310 | Win/lose count 1.0/1.0 (0.0)\n",
      "Epoch 042/050 | Loss 0.0027 | Win/lose count 4.5/2.0 (2.5)\n",
      "Epoch 043/050 | Loss 0.0033 | Win/lose count 1.0/0 (1.0)\n",
      "Epoch 044/050 | Loss 0.0007 | Win/lose count 0.5/0 (0.5)\n",
      "Epoch 045/050 | Loss 0.0017 | Win/lose count 4.0/0 (4.0)\n",
      "Epoch 046/050 | Loss 0.0008 | Win/lose count 6.5/1.0 (5.5)\n",
      "Epoch 047/050 | Loss 0.0055 | Win/lose count 5.0/2.0 (3.0)\n",
      "Epoch 048/050 | Loss 0.0030 | Win/lose count 4.0/0 (4.0)\n",
      "Epoch 049/050 | Loss 0.0008 | Win/lose count 4.5/1.0 (3.5)\n"
     ]
    },
    {
     "data": {
      "text/html": [
       "<video alt=\"test\" controls>\n",
       "                <source src=\"data:video/mp4;base64,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\" type=\"video/mp4\" />\n",
       "             </video>"
      ],
      "text/plain": [
       "<IPython.core.display.HTML object>"
      ]
     },
     "execution_count": 16,
     "metadata": {},
     "output_type": "execute_result"
    }
   ],
   "source": [
    "env = Environment(grid_size=size, max_time=T, temperature=0.1)\n",
    "agent = DQN_CNN(size, lr=.001, epsilon = 0.1, memory_size=2000, batch_size = 16)\n",
    "train(agent,env,epochs_train,prefix='cnn_train_low_temp')\n",
    "HTML(display_videos('cnn_train_low_temp10.mp4'))"
   ]
  },
  {
   "cell_type": "markdown",
   "metadata": {},
   "source": [
    "***\n",
    "***\n",
    "__Question 9__ Test both algorithms and compare their performances. Which issue(s) do you observe? Observe also different behaviors by changing the temperature."
   ]
  },
  {
   "cell_type": "code",
   "execution_count": 17,
   "metadata": {
    "collapsed": true
   },
   "outputs": [
    {
     "name": "stdout",
     "output_type": "stream",
     "text": [
      "Test of the CNN\n",
      "Win/lose count 0.5/0. Average score (0.5)\n",
      "Win/lose count 3.5/0. Average score (2.0)\n",
      "Win/lose count 11.5/0. Average score (5.166666666666667)\n",
      "Win/lose count 4.5/0. Average score (5.0)\n",
      "Win/lose count 2.0/0. Average score (4.4)\n",
      "Win/lose count 1.0/0. Average score (3.8333333333333335)\n",
      "Win/lose count 5.5/1.0. Average score (3.9285714285714284)\n",
      "Win/lose count 0.5/0. Average score (3.5)\n",
      "Win/lose count 1.5/0. Average score (3.2777777777777777)\n",
      "Win/lose count 5.5/0. Average score (3.5)\n",
      "Final score: 3.5\n",
      "Test of the FC\n",
      "Win/lose count 0/0. Average score (0.0)\n",
      "Win/lose count 2.5/0. Average score (1.25)\n",
      "Win/lose count 0/0. Average score (0.8333333333333334)\n",
      "Win/lose count 0.5/0. Average score (0.75)\n",
      "Win/lose count 2.5/0. Average score (1.1)\n",
      "Win/lose count 0.5/0. Average score (1.0)\n",
      "Win/lose count 1.0/0. Average score (1.0)\n",
      "Win/lose count 0.5/0. Average score (0.9375)\n",
      "Win/lose count 1.0/0. Average score (0.9444444444444444)\n",
      "Win/lose count 0.5/0. Average score (0.9)\n",
      "Final score: 0.9\n"
     ]
    }
   ],
   "source": [
    "env = Environment(grid_size=size, max_time=T,temperature=0.3)\n",
    "agent_cnn = DQN_CNN(size, lr=.01, epsilon = 0.1, memory_size=2000, batch_size = 16)\n",
    "agent_cnn.load(name_weights='cnn_trainmodel.h5',name_model='cnn_trainmodel.json')\n",
    "\n",
    "agent_fc = DQN_FC(size, lr=.01, epsilon = 0.1, memory_size=2000, batch_size = 16)\n",
    "agent_fc.load(name_weights='fc_trainmodel.h5',name_model='fc_trainmodel.json')\n",
    "print('Test of the CNN')\n",
    "test(agent_cnn,env,epochs_test,prefix='cnn_test')\n",
    "print('Test of the FC')\n",
    "test(agent_fc,env,epochs_test,prefix='fc_test')"
   ]
  },
  {
   "cell_type": "code",
   "execution_count": 18,
   "metadata": {
    "collapsed": true
   },
   "outputs": [
    {
     "data": {
      "text/html": [
       "<video alt=\"test\" controls>\n",
       "                <source src=\"data:video/mp4;base64,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\" type=\"video/mp4\" />\n",
       "             </video>"
      ],
      "text/plain": [
       "<IPython.core.display.HTML object>"
      ]
     },
     "execution_count": 18,
     "metadata": {},
     "output_type": "execute_result"
    }
   ],
   "source": [
    "HTML(display_videos('cnn_test5.mp4'))"
   ]
  },
  {
   "cell_type": "code",
   "execution_count": 19,
   "metadata": {
    "collapsed": true
   },
   "outputs": [
    {
     "data": {
      "text/html": [
       "<video alt=\"test\" controls>\n",
       "                <source src=\"data:video/mp4;base64,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\" type=\"video/mp4\" />\n",
       "             </video>"
      ],
      "text/plain": [
       "<IPython.core.display.HTML object>"
      ]
     },
     "execution_count": 19,
     "metadata": {},
     "output_type": "execute_result"
    }
   ],
   "source": [
    "HTML(display_videos('fc_test4.mp4'))"
   ]
  },
  {
   "cell_type": "code",
   "execution_count": 20,
   "metadata": {},
   "outputs": [
    {
     "name": "stdout",
     "output_type": "stream",
     "text": [
      "Test of the CNN\n",
      "Win/lose count 2.0/0. Average score (2.0)\n",
      "Win/lose count 0.5/0. Average score (1.25)\n",
      "Win/lose count 2.0/0. Average score (1.5)\n",
      "Win/lose count 0.5/0. Average score (1.25)\n",
      "Win/lose count 0/0. Average score (1.0)\n",
      "Win/lose count 0.5/0. Average score (0.9166666666666666)\n",
      "Win/lose count 0.5/0. Average score (0.8571428571428571)\n",
      "Win/lose count 0.5/0. Average score (0.8125)\n",
      "Win/lose count 1.5/0. Average score (0.8888888888888888)\n",
      "Win/lose count 0/0. Average score (0.8)\n",
      "Final score: 0.8\n",
      "Test of the FC\n",
      "Win/lose count 0.5/0. Average score (0.5)\n",
      "Win/lose count 2.0/0. Average score (1.25)\n",
      "Win/lose count 0/0. Average score (0.8333333333333334)\n",
      "Win/lose count 0/0. Average score (0.625)\n",
      "Win/lose count 1.5/0. Average score (0.8)\n",
      "Win/lose count 0/0. Average score (0.6666666666666666)\n",
      "Win/lose count 0.5/0. Average score (0.6428571428571429)\n",
      "Win/lose count 0.5/0. Average score (0.625)\n",
      "Win/lose count 0/0. Average score (0.5555555555555556)\n",
      "Win/lose count 1.0/0. Average score (0.6)\n",
      "Final score: 0.6\n"
     ]
    }
   ],
   "source": [
    "env = Environment(grid_size=size, max_time=T,temperature=0.1)\n",
    "agent_cnn = DQN_CNN(size, lr=.01, epsilon = 0.1, memory_size=2000, batch_size = 16)\n",
    "agent_cnn.load(name_weights='cnn_train_low_tempmodel.h5',name_model='cnn_train_low_tempmodel.json')\n",
    "\n",
    "agent_fc = DQN_FC(size, lr=.01, epsilon = 0.1, memory_size=2000, batch_size = 16)\n",
    "agent_fc.load(name_weights='fc_train_low_tempmodel.h5',name_model='fc_train_low_tempmodel.json')\n",
    "print('Test of the CNN')\n",
    "test(agent_cnn,env,epochs_test,prefix='cnn_test_low_temp')\n",
    "print('Test of the FC')\n",
    "test(agent_fc,env,epochs_test,prefix='fc_test_low_temp')"
   ]
  },
  {
   "cell_type": "code",
   "execution_count": 21,
   "metadata": {},
   "outputs": [
    {
     "data": {
      "text/html": [
       "<video alt=\"test\" controls>\n",
       "                <source src=\"data:video/mp4;base64,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\" type=\"video/mp4\" />\n",
       "             </video>"
      ],
      "text/plain": [
       "<IPython.core.display.HTML object>"
      ]
     },
     "execution_count": 21,
     "metadata": {},
     "output_type": "execute_result"
    }
   ],
   "source": [
    "HTML(display_videos('fc_test_low_temp4.mp4'))"
   ]
  },
  {
   "cell_type": "code",
   "execution_count": 22,
   "metadata": {},
   "outputs": [
    {
     "data": {
      "text/html": [
       "<video alt=\"test\" controls>\n",
       "                <source src=\"data:video/mp4;base64,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\" type=\"video/mp4\" />\n",
       "             </video>"
      ],
      "text/plain": [
       "<IPython.core.display.HTML object>"
      ]
     },
     "execution_count": 22,
     "metadata": {},
     "output_type": "execute_result"
    }
   ],
   "source": [
    "HTML(display_videos('cnn_test_low_temp4.mp4'))"
   ]
  },
  {
   "cell_type": "markdown",
   "metadata": {},
   "source": [
    "> We notice that the agent only explores the region closest to him and ends up stuck in a loop where he oscillates between 2 positions.\n",
    "> We also notice that a higher temperature leads to a higher score because the rat has a higher probability of finding food ie. getting positive rewards."
   ]
  },
  {
   "cell_type": "markdown",
   "metadata": {},
   "source": [
    "***\n",
    "\n",
    "The algorithm tends to not explore the map which can be an issue. We propose two ideas in order to encourage exploration:\n",
    "1. Incorporating a decreasing $\\epsilon$-greedy exploration. You can use the method ```set_epsilon```\n",
    "2. Append via the environment a new state that describes if a cell has been visited or not\n",
    "\n",
    "***\n",
    "__Question 10__ Design a new ```train_explore``` function and environment class ```EnvironmentExploring``` to tackle the issue of exploration.\n",
    "\n"
   ]
  },
  {
   "cell_type": "code",
   "execution_count": 23,
   "metadata": {
    "collapsed": true
   },
   "outputs": [],
   "source": [
    "def train_explore(agent,env,epoch,prefix='', epsilon_0=1, decay_factor=0.05):\n",
    "    # Number of won games\n",
    "    score = 0\n",
    "    loss = 0\n",
    "    t = 0\n",
    "    \n",
    "    agent.set_epsilon(epsilon_0)\n",
    "    \n",
    "    for e in range(epoch):\n",
    "       \n",
    "        \n",
    "        # At each epoch, we restart to a fresh game and get the initial state\n",
    "        state = env.reset()\n",
    "        # This assumes that the games will terminate\n",
    "        game_over = False\n",
    "\n",
    "        win = 0\n",
    "        lose = 0\n",
    "\n",
    "        while not game_over:\n",
    "            # The agent performs an action\n",
    "            action = agent.act(state)\n",
    "\n",
    "            # Apply an action to the environment, get the next state, the reward\n",
    "            # and if the games end\n",
    "            prev_state = state\n",
    "            state, reward, game_over = env.act(action, train=True)\n",
    "\n",
    "            # Update the counters\n",
    "            if reward > 0:\n",
    "                win = win + reward\n",
    "            if reward < 0:\n",
    "                lose = lose -reward\n",
    "\n",
    "            # Apply the reinforcement strategy\n",
    "            loss = agent.reinforce(prev_state, state,  action, reward, game_over)\n",
    "            \n",
    "            new_epsilon = epsilon_0/(1+decay_factor*t)\n",
    "            t += 1\n",
    "            agent.set_epsilon(new_epsilon)\n",
    "            \n",
    "\n",
    "        # Save as a mp4\n",
    "        if e % 10 == 0:\n",
    "            env.draw(prefix+str(e))\n",
    "\n",
    "        # Update stats\n",
    "        score += win-lose\n",
    "\n",
    "        print(\"Epoch {:03d}/{:03d} | Loss {:.4f} | Win/lose count {}/{} ({})\"\n",
    "              .format(e, epoch, loss, win, lose, win-lose))\n",
    "        agent.save(name_weights=prefix+'model.h5',name_model=prefix+'model.json')\n",
    "        \n",
    "        \n",
    "class EnvironmentExploring(Environment):\n",
    "    def __init__(self, grid_size=10, max_time=500, temperature=0.1):\n",
    "        super(EnvironmentExploring, self).__init__(grid_size, max_time, temperature)\n",
    "        \n",
    "        self.malus_position = np.zeros_like(self.position)\n",
    "    \n",
    "    def act(self, action, train=False):\n",
    "        \"\"\"This function returns the new state, reward and decides if the\n",
    "        game ends.\"\"\"\n",
    "\n",
    "        self.get_frame(int(self.t))\n",
    "\n",
    "        self.position = np.zeros((self.grid_size, self.grid_size))\n",
    "\n",
    "        self.position[0:2,:]= -1\n",
    "        self.position[:,0:2] = -1\n",
    "        self.position[-2:, :] = -1\n",
    "        self.position[-2:, :] = -1\n",
    "\n",
    "        self.position[self.x, self.y] = 1\n",
    "        \n",
    "        \n",
    "        self.malus_position[self.x, self.y] += 0.1\n",
    "        \n",
    "        if action == 0:  # Right\n",
    "            if self.x == self.grid_size-3:\n",
    "                self.x = self.x-1\n",
    "            else:\n",
    "                self.x = self.x + 1\n",
    "        elif action == 1:  # Left\n",
    "            if self.x == 2:\n",
    "                self.x = self.x+1\n",
    "            else:\n",
    "                self.x = self.x-1\n",
    "        elif action == 2:  # Up\n",
    "            if self.y == self.grid_size - 3:\n",
    "                self.y = self.y - 1\n",
    "            else:\n",
    "                self.y = self.y + 1\n",
    "        elif action == 3:  # Down\n",
    "            if self.y == 2:\n",
    "                self.y = self.y + 1\n",
    "            else:\n",
    "                self.y = self.y - 1\n",
    "        else:\n",
    "            RuntimeError('Error: action not recognized')\n",
    "            \n",
    "\n",
    "        self.t = self.t + 1\n",
    "        reward = self.board[self.x, self.y]\n",
    "        if train:\n",
    "            reward -= self.malus_position[self.x, self.y]\n",
    "        self.board[self.x, self.y] = 0\n",
    "        game_over = self.t > self.max_time\n",
    "        state = np.concatenate((self.board.reshape(self.grid_size, self.grid_size,1),\n",
    "                                self.position.reshape(self.grid_size, self.grid_size,1),\n",
    "                                self.malus_position.reshape(self.grid_size, self.grid_size,1)),axis=2)\n",
    "        state = state[self.x-2:self.x+3,self.y-2:self.y+3,:]\n",
    "\n",
    "        return state, reward, game_over\n",
    "\n",
    "    def reset(self):\n",
    "        \"\"\"This function resets the game and returns the initial state\"\"\"\n",
    "\n",
    "        self.x = np.random.randint(3, self.grid_size-3, size=1)[0]\n",
    "        self.y = np.random.randint(3, self.grid_size-3, size=1)[0]\n",
    "\n",
    "\n",
    "        bonus = 0.5*np.random.binomial(1,self.temperature,size=self.grid_size**2)\n",
    "        bonus = bonus.reshape(self.grid_size,self.grid_size)\n",
    "\n",
    "        malus = -1.0*np.random.binomial(1,self.temperature,size=self.grid_size**2)\n",
    "        malus = malus.reshape(self.grid_size, self.grid_size)\n",
    "\n",
    "        self.to_draw = np.zeros((self.max_time+2, self.grid_size*self.scale, self.grid_size*self.scale, 3))\n",
    "\n",
    "\n",
    "        malus[bonus>0]=0\n",
    "\n",
    "        self.board = bonus + malus\n",
    "\n",
    "        self.position = np.zeros((self.grid_size, self.grid_size))\n",
    "        self.malus_position = np.zeros_like(self.position)\n",
    "        \n",
    "        self.position[0:2,:]= -1\n",
    "        self.position[:,0:2] = -1\n",
    "        self.position[-2:, :] = -1\n",
    "        self.position[-2:, :] = -1\n",
    "        self.board[self.x,self.y] = 0\n",
    "        self.t = 0\n",
    "\n",
    "        state = np.concatenate((self.board.reshape(self.grid_size, self.grid_size,1),\n",
    "                                self.position.reshape(self.grid_size, self.grid_size,1),\n",
    "                                self.malus_position.reshape(self.grid_size, self.grid_size,1)),axis=2)\n",
    "\n",
    "        state = state[self.x - 2:self.x + 3, self.y - 2:self.y + 3, :]\n",
    "        return state"
   ]
  },
  {
   "cell_type": "code",
   "execution_count": 25,
   "metadata": {
    "collapsed": true
   },
   "outputs": [
    {
     "name": "stdout",
     "output_type": "stream",
     "text": [
      "Epoch 000/050 | Loss 0.0054 | Win/lose count 10.5/51.700000000000045 (-41.200000000000045)\n",
      "Epoch 001/050 | Loss 0.0518 | Win/lose count 15.0/50.3 (-35.3)\n",
      "Epoch 002/050 | Loss 0.0135 | Win/lose count 15.0/30.5 (-15.5)\n",
      "Epoch 003/050 | Loss 0.0202 | Win/lose count 20.5/22.699999999999996 (-2.1999999999999957)\n",
      "Epoch 004/050 | Loss 0.0672 | Win/lose count 21.5/18.59999999999998 (2.90000000000002)\n",
      "Epoch 005/050 | Loss 0.0086 | Win/lose count 20.5/36.300000000000026 (-15.800000000000026)\n",
      "Epoch 006/050 | Loss 0.0433 | Win/lose count 24.5/18.099999999999984 (6.400000000000016)\n",
      "Epoch 007/050 | Loss 0.0151 | Win/lose count 18.5/24.700000000000003 (-6.200000000000003)\n",
      "Epoch 008/050 | Loss 0.0240 | Win/lose count 27.5/32.60000000000004 (-5.100000000000037)\n",
      "Epoch 009/050 | Loss 0.0159 | Win/lose count 20.5/23.29999999999998 (-2.7999999999999794)\n",
      "Epoch 010/050 | Loss 0.0215 | Win/lose count 21.5/18.599999999999987 (2.900000000000013)\n",
      "Epoch 011/050 | Loss 0.0237 | Win/lose count 25.0/19.499999999999993 (5.500000000000007)\n",
      "Epoch 012/050 | Loss 0.0065 | Win/lose count 20.5/17.199999999999985 (3.300000000000015)\n",
      "Epoch 013/050 | Loss 0.0155 | Win/lose count 21.5/17.199999999999985 (4.300000000000015)\n",
      "Epoch 014/050 | Loss 0.0157 | Win/lose count 21.5/19.100000000000005 (2.399999999999995)\n",
      "Epoch 015/050 | Loss 0.0104 | Win/lose count 22.0/18.79999999999998 (3.2000000000000206)\n",
      "Epoch 016/050 | Loss 0.0194 | Win/lose count 21.5/18.29999999999998 (3.2000000000000206)\n",
      "Epoch 017/050 | Loss 0.0230 | Win/lose count 25.0/16.59999999999998 (8.40000000000002)\n",
      "Epoch 018/050 | Loss 0.0145 | Win/lose count 25.0/19.200000000000017 (5.799999999999983)\n",
      "Epoch 019/050 | Loss 0.0418 | Win/lose count 21.5/13.99999999999998 (7.5000000000000195)\n",
      "Epoch 020/050 | Loss 0.0110 | Win/lose count 29.0/11.699999999999985 (17.300000000000015)\n",
      "Epoch 021/050 | Loss 0.0105 | Win/lose count 23.5/15.999999999999984 (7.500000000000016)\n",
      "Epoch 022/050 | Loss 0.0289 | Win/lose count 21.5/11.799999999999986 (9.700000000000014)\n",
      "Epoch 023/050 | Loss 0.0123 | Win/lose count 26.0/19.399999999999974 (6.600000000000026)\n",
      "Epoch 024/050 | Loss 0.0206 | Win/lose count 23.5/15.99999999999998 (7.5000000000000195)\n",
      "Epoch 025/050 | Loss 0.0194 | Win/lose count 20.5/15.29999999999998 (5.200000000000021)\n",
      "Epoch 026/050 | Loss 0.0152 | Win/lose count 27.5/16.099999999999987 (11.400000000000013)\n",
      "Epoch 027/050 | Loss 0.0165 | Win/lose count 25.0/18.099999999999994 (6.900000000000006)\n",
      "Epoch 028/050 | Loss 0.0183 | Win/lose count 25.0/11.699999999999982 (13.300000000000018)\n",
      "Epoch 029/050 | Loss 0.0127 | Win/lose count 28.5/18.699999999999992 (9.800000000000008)\n",
      "Epoch 030/050 | Loss 0.0134 | Win/lose count 25.5/20.699999999999985 (4.800000000000015)\n",
      "Epoch 031/050 | Loss 0.0103 | Win/lose count 21.5/14.099999999999977 (7.4000000000000234)\n",
      "Epoch 032/050 | Loss 0.0199 | Win/lose count 24.0/16.59999999999998 (7.40000000000002)\n",
      "Epoch 033/050 | Loss 0.0235 | Win/lose count 24.0/18.99999999999999 (5.000000000000011)\n",
      "Epoch 034/050 | Loss 0.0279 | Win/lose count 26.0/20.599999999999998 (5.400000000000002)\n",
      "Epoch 035/050 | Loss 0.0173 | Win/lose count 25.5/21.60000000000002 (3.899999999999981)\n",
      "Epoch 036/050 | Loss 0.0178 | Win/lose count 25.0/14.99999999999998 (10.00000000000002)\n",
      "Epoch 037/050 | Loss 0.0118 | Win/lose count 24.5/25.300000000000022 (-0.800000000000022)\n",
      "Epoch 038/050 | Loss 0.0234 | Win/lose count 19.5/27.599999999999998 (-8.099999999999998)\n",
      "Epoch 039/050 | Loss 0.0169 | Win/lose count 27.0/12.49999999999998 (14.50000000000002)\n",
      "Epoch 040/050 | Loss 0.0420 | Win/lose count 26.0/13.299999999999981 (12.700000000000019)\n",
      "Epoch 041/050 | Loss 0.0211 | Win/lose count 24.0/12.499999999999984 (11.500000000000016)\n",
      "Epoch 042/050 | Loss 0.0372 | Win/lose count 22.5/18.99999999999999 (3.5000000000000107)\n",
      "Epoch 043/050 | Loss 0.0352 | Win/lose count 24.0/22.200000000000003 (1.7999999999999972)\n",
      "Epoch 044/050 | Loss 0.0226 | Win/lose count 19.0/21.9 (-2.8999999999999986)\n",
      "Epoch 045/050 | Loss 0.0151 | Win/lose count 22.5/17.399999999999977 (5.100000000000023)\n",
      "Epoch 046/050 | Loss 0.0227 | Win/lose count 20.5/17.599999999999984 (2.9000000000000163)\n",
      "Epoch 047/050 | Loss 0.0225 | Win/lose count 23.5/18.5 (5.0)\n",
      "Epoch 048/050 | Loss 0.0302 | Win/lose count 26.5/14.199999999999985 (12.300000000000015)\n",
      "Epoch 049/050 | Loss 0.0162 | Win/lose count 24.0/16.19999999999998 (7.8000000000000185)\n"
     ]
    },
    {
     "data": {
      "text/html": [
       "<video alt=\"test\" controls>\n",
       "                <source src=\"data:video/mp4;base64,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\" type=\"video/mp4\" />\n",
       "             </video>"
      ],
      "text/plain": [
       "<IPython.core.display.HTML object>"
      ]
     },
     "execution_count": 25,
     "metadata": {},
     "output_type": "execute_result"
    }
   ],
   "source": [
    "# Training\n",
    "env = EnvironmentExploring(grid_size=size, max_time=T, temperature=0.3)\n",
    "agent = DQN_CNN(size, lr=.001, memory_size=2000, batch_size = 16,n_state=3)\n",
    "train_explore(agent, env, epochs_train, prefix='cnn_train_explore')\n",
    "HTML(display_videos('cnn_train_explore10.mp4'))"
   ]
  },
  {
   "cell_type": "code",
   "execution_count": 26,
   "metadata": {
    "collapsed": true
   },
   "outputs": [
    {
     "name": "stdout",
     "output_type": "stream",
     "text": [
      "Win/lose count 25.0/8.0. Average score (17.0)\n",
      "Win/lose count 20.5/11.0. Average score (13.25)\n",
      "Win/lose count 16.5/9.0. Average score (11.333333333333334)\n",
      "Win/lose count 20.5/9.0. Average score (11.375)\n",
      "Win/lose count 26.5/8.0. Average score (12.8)\n",
      "Win/lose count 23.0/5.0. Average score (13.666666666666666)\n",
      "Win/lose count 19.0/7.0. Average score (13.428571428571429)\n",
      "Win/lose count 16.0/7.0. Average score (12.875)\n",
      "Win/lose count 16.5/9.0. Average score (12.277777777777779)\n",
      "Win/lose count 23.0/11.0. Average score (12.25)\n",
      "Final score: 12.25\n"
     ]
    },
    {
     "data": {
      "text/html": [
       "<video alt=\"test\" controls>\n",
       "                <source src=\"data:video/mp4;base64,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\" type=\"video/mp4\" />\n",
       "             </video>"
      ],
      "text/plain": [
       "<IPython.core.display.HTML object>"
      ]
     },
     "execution_count": 26,
     "metadata": {},
     "output_type": "execute_result"
    }
   ],
   "source": [
    "# Evaluation\n",
    "test(agent,env,epochs_test,prefix='cnn_test_explore')\n",
    "HTML(display_videos('cnn_test_explore9.mp4'))"
   ]
  },
  {
   "cell_type": "markdown",
   "metadata": {},
   "source": [
    "***\n",
    "***\n",
    "__BONUS question__ Use the expert DQN from the previous question to generate some winning games. Train a model that mimicks its behavior. Compare the performances."
   ]
  },
  {
   "cell_type": "markdown",
   "metadata": {},
   "source": []
  },
  {
   "cell_type": "markdown",
   "metadata": {},
   "source": [
    "***"
   ]
  }
 ],
 "metadata": {
  "kernelspec": {
   "display_name": "Python 3",
   "language": "python",
   "name": "python3"
  },
  "language_info": {
   "codemirror_mode": {
    "name": "ipython",
    "version": 3
   },
   "file_extension": ".py",
   "mimetype": "text/x-python",
   "name": "python",
   "nbconvert_exporter": "python",
   "pygments_lexer": "ipython3",
   "version": "3.6.3"
  }
 },
 "nbformat": 4,
 "nbformat_minor": 2
}
